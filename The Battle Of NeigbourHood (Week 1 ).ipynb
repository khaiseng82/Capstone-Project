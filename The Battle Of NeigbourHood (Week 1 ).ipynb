{
 "cells": [
  {
   "cell_type": "markdown",
   "id": "385811c4",
   "metadata": {},
   "source": [
    "# IBM Capstone Assignment-> The Battle Of NeigbourHood (Week 1 )"
   ]
  },
  {
   "cell_type": "markdown",
   "id": "28fa0fd7",
   "metadata": {},
   "source": [
    "<h5>Assume that i am a Real Estate Agent in Singapore assisting my Client Mr Edwin  to Find a HDB( Housing Development Board) Flat in Singapore</h5>"
   ]
  },
  {
   "cell_type": "markdown",
   "id": "0858cb14",
   "metadata": {},
   "source": [
    "<b>A description of the problem and a discussion of the background. (15 marks)</b>"
   ]
  },
  {
   "cell_type": "markdown",
   "id": "ba7c9dd0",
   "metadata": {},
   "source": [
    "My Client Gave me a Stringent Expectation as below ¶"
   ]
  },
  {
   "cell_type": "markdown",
   "id": "be56ae49",
   "metadata": {},
   "source": [
    "<ol>\n",
    "<li>\n",
    "My client  looking for a 4 Room HDB Flat ( Can be Model A / ModelA2 / DBSS/ Simplified Etc)\n",
    "    \n",
    "</li>\n",
    "\n",
    "<li>\n",
    "Area that My Client looking at (Toa Payoh / Ang Mokio / Hougang)\n",
    "</li>\n",
    "\n",
    "<li>\n",
    "Should Be Near by Train Station (MRT)\n",
    "</li>\n",
    "\n",
    "<li>\n",
    "Should have HyperMart(Fair Price/ Giant / Cold Storage / Sheng Siong) Near By\n",
    "</li>\n",
    "\n",
    "\n",
    "\n",
    "<li>\n",
    "Leasing Left Should be be more that t > 70 Years ( In Singapore Governement Build HDB Flat have a Leasing Years of 99 Years) \n",
    "    \n",
    "</li>    \n",
    "\n",
    "\n",
    "<li>\n",
    "Slightly below Market  Rate Average Price\n",
    "</li>\n",
    "\n",
    "\n",
    "</ol>"
   ]
  },
  {
   "cell_type": "markdown",
   "id": "5a5d7444",
   "metadata": {},
   "source": [
    "<b>A description of the data and how it will be used to solve the problem. (15 marks)</b>"
   ]
  },
  {
   "cell_type": "markdown",
   "id": "3d65e48f",
   "metadata": {},
   "source": [
    "(1) Get FLat Resale HDB Data from data.gov.sg host by Singapore Goverment\n",
    "(2) Extract Data to CSV\n",
    "(3) Get FLat Resale HDB  Coordinate using OneAPI.map host By Singapore Government\n",
    "(4) Get Train station Coordinate  using OneAPI.map host By Singapore Government\n",
    "(5) Get Near By Supermarket location Using FourSqure API\n",
    "(6) Wrangling  HDB  Data Clean / Sort / Merge\n",
    "(7) Logical Table Reduction Base on my Client Criteria\n",
    "\n",
    "Provide a Summary :Objective is to Propose 1 Flat at each Location (Toa Payoh / Ang Mokio / Hougang ) For My Client to Decide Which He will go For to purchase "
   ]
  },
  {
   "cell_type": "code",
   "execution_count": null,
   "id": "02ac0935",
   "metadata": {},
   "outputs": [],
   "source": []
  }
 ],
 "metadata": {
  "kernelspec": {
   "display_name": "Python 3",
   "language": "python",
   "name": "python3"
  },
  "language_info": {
   "codemirror_mode": {
    "name": "ipython",
    "version": 3
   },
   "file_extension": ".py",
   "mimetype": "text/x-python",
   "name": "python",
   "nbconvert_exporter": "python",
   "pygments_lexer": "ipython3",
   "version": "3.9.2"
  }
 },
 "nbformat": 4,
 "nbformat_minor": 5
}
